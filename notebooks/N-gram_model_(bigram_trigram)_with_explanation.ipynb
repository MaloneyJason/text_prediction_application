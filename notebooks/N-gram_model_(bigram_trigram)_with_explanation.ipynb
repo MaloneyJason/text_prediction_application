{
 "cells": [
  {
   "cell_type": "markdown",
   "metadata": {},
   "source": [
    "# N-gram model (bigram and trigram)"
   ]
  },
  {
   "cell_type": "markdown",
   "metadata": {},
   "source": [
    "This n-gram model was built by bigram model and trigram model."
   ]
  },
  {
   "cell_type": "markdown",
   "metadata": {},
   "source": [
    "# import necessary libraries"
   ]
  },
  {
   "cell_type": "markdown",
   "metadata": {},
   "source": [
    "`bigrams`, `trigrams` are used for creating models. `defaultdict` is for creating a nested dictionary with default value. \n",
    "`TweetTokenizer` to tokenize the words and symbols. `numpy` for plotting the predicted words. `random` for randomly choosing the word with the same probability,"
   ]
  },
  {
   "cell_type": "code",
   "execution_count": 1,
   "metadata": {},
   "outputs": [],
   "source": [
    "from nltk import bigrams, trigrams\n",
    "from collections import Counter, defaultdict\n",
    "from nltk.tokenize import TweetTokenizer\n",
    "import numpy as np\n",
    "import matplotlib.pyplot as plt\n",
    "import random"
   ]
  },
  {
   "cell_type": "markdown",
   "metadata": {},
   "source": [
    "sample review, 5 reviews. Each review is stored in an element of a list."
   ]
  },
  {
   "cell_type": "code",
   "execution_count": 2,
   "metadata": {},
   "outputs": [],
   "source": [
    "text_list = [\"For a movie that gets no respect there sure are a lot of memorable quotes listed for this gem. Imagine a movie where Joe Piscopo is actually funny! Maureen Stapleton is a scene stealer. The Moroni character is an absolute scream. Watch for Alan \"\"The Skipper\"\" Hale jr. as a police Sgt.\"\n",
    "             ,\"Bizarre horror movie filled with famous faces but stolen by Cristina Raines (later of TV's \"\"Flamingo Road\"\") as a pretty but somewhat unstable model with a gummy smile who is slated to pay for her attempted suicides by guarding the Gateway to Hell! The scenes with Raines modeling are very well captured, the mood music is perfect, Deborah Raffin is charming as Cristina's pal, but when Raines moves into a creepy Brooklyn Heights brownstone (inhabited by a blind priest on the top floor), things really start cooking. The neighbors, including a fantastically wicked Burgess Meredith and kinky couple Sylvia Miles & Beverly D'Angelo, are a diabolical lot, and Eli Wallach is great fun as a wily police detective. The movie is nearly a cross-pollination of \"\"Rosemary's Baby\"\" and \"\"The Exorcist\"\"--but what a combination! Based on the best-seller by Jeffrey Konvitz, \"\"The Sentinel\"\" is entertainingly spooky, full of shocks brought off well by director Michael Winner, who mounts a thoughtfully downbeat ending with skill. ***1/2 from ****\"\n",
    "             , \"I saw the movie with two grown children. Although it was not as clever as Shrek, I thought it was rather good. In a movie theatre surrounded by children who were on spring break, there was not a sound so I know the children all liked it. There parents also seemed engaged. The death and apparent death of characters brought about the appropriate gasps and comments. Hopefully people realize this movie was made for kids. As such, it was successful although I liked it too. Personally I liked the Scrat!!\"\n",
    "            , \"You're using the IMDb.  You've given some hefty votes to some of your favourite films.  It's something you enjoy doing.  And it's all because of this. Fifty seconds. One world ends, another begins.  How can it not be given a ten? I wonder at those who give this a seven or an eight... exactly how could THE FIRST FILM EVER MADE be better? For the record, the long, still opening shot is great showmanship, a superb innovation, perfectly suited to the situation. And the dog on the bike is a lovely touch. All this within fifty seconds.  The word genius is often overused.  THIS is genius.\"\n",
    "            , \"Made after QUARTET was, TRIO continued the quality of the earlier film versions of the short stories by Maugham. Here the three stories are THE VERGER, MR. KNOW-IT-ALL, and SANITORIUM. The first two are comic (THE VERGER is like a prolonged joke, but one with a good pay-off), and the last more serious (as health issues are involved). Again the author introduces the film and the stories.  James Hayter, soon to have his signature role as Samuel Pickwick, is the hero in THE VERGER. He holds this small custodial-type job in a church, but the new Vicar (Michael Hordern) is an intellectual snob. When he hears Hayter has no schooling he fires him. Hayter has saved some money, so he tells his wife (Kathleen Harrison) he fancies buying a small news and tobacco shop. He has a good eye, and his store thrives. Soon he has a whole chain of stores. When his grandchild is christened by Hordern, the latter is amazed to see how prosperous his ex-Verger. The payoff is when bank manager Felix Aylmer meets with Hayter about diversifying his investments. I'll leave it to you to hear the unintentional but ironic coda of the meeting.  According to Maugham he met a man like Max Kelada (Nigel Patrick) on a cruise. In MR. KNOW-IT-ALL Kelada is a splashy, friendly, and slightly overbearing type from the Middle East who is on a business trip (regarding jewelry) by steamship. His state-room mate is Mr. Grey (the ever quiet and proper Wilfred Hyde-White) who is somewhat, silently disapproving of Max. Max likes to enliven things, and soon is heavily involved in the ship's entertainment. At this point the story actually resembles part of the plot of the non-Maugham story and film CHINA SEAS (1935), as Max makes a bet that he can tell a real piece of jewelry from a fake (after insisting that a piece of jewelry he spotted is real). I won't describe the way Max rises to the occasion.  SANITORIUM is the longest segment. Roland Culver plays \"\"Ashenden\"\" (the fictional alter-ego of Maugham - a writer and one time spy as in Hitchcock's THE SECRET AGENT). Here he has to use a sanitorium for a couple of months for his health. He finds a remarkable crew of people, including Jean Simmons as a frail but beautiful young woman, Finlay Currie as an irascible Scotsman, John Laurie as a second irascible Scotsman who is \"\"at war\"\" with Currie, Raymond Huntley as a quiet patient who only shows his internal anger at his situation when his wife shows up, and Michael Rennie as a young man who has a serious life threatening illness. Culver watches as three stories among these characters play out to their conclusions. The last, dealing with Simmons and Rennie, is ironic but deeply moving.  It was a dandy follow-up to the earlier QUARTET, and well worth watching.\"]"
   ]
  },
  {
   "cell_type": "markdown",
   "metadata": {},
   "source": [
    "tokenize the text by review (sentence)"
   ]
  },
  {
   "cell_type": "code",
   "execution_count": 3,
   "metadata": {},
   "outputs": [
    {
     "name": "stdout",
     "output_type": "stream",
     "text": [
      "Wall time: 3.99 ms\n"
     ]
    }
   ],
   "source": [
    "%%time\n",
    "tokenizer = TweetTokenizer()  # tokenizer can be changed\n",
    "sentences_tokens = [tokenizer.tokenize(text) for text in text_list]"
   ]
  },
  {
   "cell_type": "code",
   "execution_count": 4,
   "metadata": {},
   "outputs": [
    {
     "data": {
      "text/plain": [
       "5"
      ]
     },
     "execution_count": 4,
     "metadata": {},
     "output_type": "execute_result"
    }
   ],
   "source": [
    "# Check the number of sentences words in a list\n",
    "len(sentences_tokens)"
   ]
  },
  {
   "cell_type": "markdown",
   "metadata": {},
   "source": [
    "create a function to build a default dictionary. It is used for saving the model with `pickle` library"
   ]
  },
  {
   "cell_type": "code",
   "execution_count": 5,
   "metadata": {},
   "outputs": [],
   "source": [
    "def default_dict():\n",
    "    return defaultdict(int)"
   ]
  },
  {
   "cell_type": "markdown",
   "metadata": {},
   "source": [
    "create a function to build a bigram model"
   ]
  },
  {
   "cell_type": "code",
   "execution_count": 6,
   "metadata": {},
   "outputs": [],
   "source": [
    "def build_bigram_model():\n",
    "    bigram_model = defaultdict(default_dict)  # create a model mold\n",
    "    for sentence in sentences_tokens: # in every sentence\n",
    "        clean_sentence = [word.lower() for word in sentence if word.isalpha()] #get alpha only\n",
    "        # Collect all bigrams counts for (w1, w2)\n",
    "        for w1, w2 in bigrams(clean_sentence):\n",
    "            bigram_model[w1][w2] += 1\n",
    "        # compute the probability for the bigram containing w1\n",
    "        for w1 in bigram_model:\n",
    "            # total count of bigram containing w1\n",
    "            total_count =float(sum(bigram_model[w1].values()))\n",
    "            #distribute the probability mass for all bigrams starting with w1\n",
    "            for w2 in bigram_model[w1]:\n",
    "                bigram_model[w1][w2] /= total_count\n",
    "    return bigram_model"
   ]
  },
  {
   "cell_type": "markdown",
   "metadata": {},
   "source": [
    "create a function to predict next word based on bigram model and return a chart of predicted words"
   ]
  },
  {
   "cell_type": "code",
   "execution_count": 7,
   "metadata": {},
   "outputs": [],
   "source": [
    "def predict_next_word_chart(first_word):\n",
    "    second_word = bigram_model[first_word]\n",
    "    # get the top 10 words whose first word is 'first_word'\n",
    "    top10words = Counter(second_word).most_common(10)\n",
    "    predicted_words = list(zip(*top10words))[0] #unpack the list to words/prob\n",
    "    probability_score = list(zip(*top10words))[1]\n",
    "    x_pos = np.arange(len(predicted_words))\n",
    "    \n",
    "    plt.bar(x_pos, probability_score, align='center')\n",
    "    for i in range(len(x_pos)):\n",
    "        plt.text(x = i - 0.25 , y = probability_score[i], \n",
    "             s = round(probability_score[i], 4))\n",
    "    plt.xticks(x_pos, predicted_words)\n",
    "    plt.ylabel('Probability Score')\n",
    "    plt.xlabel('Predicted words')\n",
    "    plt.title(f'Predicted words for \"{first_word}\" with Bigram model')\n",
    "    plt.show()"
   ]
  },
  {
   "cell_type": "code",
   "execution_count": 8,
   "metadata": {},
   "outputs": [],
   "source": [
    "# create a bigram model\n",
    "bigram_model = build_bigram_model()"
   ]
  },
  {
   "cell_type": "code",
   "execution_count": 9,
   "metadata": {},
   "outputs": [
    {
     "data": {
      "image/png": "[encoded data removed]",
      "text/plain": [
       "<Figure size 432x288 with 1 Axes>"
      ]
     },
     "metadata": {
      "needs_background": "light"
     },
     "output_type": "display_data"
    }
   ],
   "source": [
    "predict_next_word_chart('movie')"
   ]
  },
  {
   "cell_type": "markdown",
   "metadata": {},
   "source": [
    "create a function that return a word that was predicted by the bigram model"
   ]
  },
  {
   "cell_type": "code",
   "execution_count": 10,
   "metadata": {},
   "outputs": [],
   "source": [
    "def bigram_predict_next_word(firstword):\n",
    "    if len(bigram_model[firstword])== 0:\n",
    "        return None\n",
    "    else:\n",
    "        second_word = bigram_model[firstword]\n",
    "        # get the top 10 words whose first word is 'first_word'\n",
    "        top10words = Counter(second_word).most_common(10)\n",
    "        predicted_words = list(zip(*top10words))[0] #unpack the list to words/prob\n",
    "        probability_score = list(zip(*top10words))[1]\n",
    "        x_pos = np.arange(len(predicted_words))\n",
    "        return predicted_words[0] # return the top words, currently cannot solve the words with same probability"
   ]
  },
  {
   "cell_type": "code",
   "execution_count": 11,
   "metadata": {},
   "outputs": [
    {
     "data": {
      "text/plain": [
       "'with'"
      ]
     },
     "execution_count": 11,
     "metadata": {},
     "output_type": "execute_result"
    }
   ],
   "source": [
    "bigram_predict_next_word('movie')"
   ]
  },
  {
   "cell_type": "code",
   "execution_count": 12,
   "metadata": {},
   "outputs": [],
   "source": [
    "# it returns None because there is no next word for the word,'hi'\n",
    "bigram_predict_next_word('hi')"
   ]
  },
  {
   "cell_type": "markdown",
   "metadata": {},
   "source": [
    "Create function to build a trigram model "
   ]
  },
  {
   "cell_type": "code",
   "execution_count": 13,
   "metadata": {},
   "outputs": [],
   "source": [
    "def build_trigram_model():\n",
    "    trigram_model = defaultdict(default_dict)  # create a model mold\n",
    "    for sentence in sentences_tokens: # in every sentence\n",
    "        clean_sentence = [word.lower() for word in sentence if word.isalpha()] #get alpha only\n",
    "        # Collect all bigrams counts for (w1, w2)\n",
    "        for w1, w2, w3 in trigrams(clean_sentence):\n",
    "            trigram_model[(w1, w2)][w3] += 1\n",
    "\n",
    "        for w1_w2 in trigram_model:\n",
    "            trigram_total_count = float(sum(trigram_model[w1_w2].values()))\n",
    "            for w3 in trigram_model[w1_w2]:\n",
    "                trigram_model[w1_w2][w3] /= trigram_total_count\n",
    "    return trigram_model"
   ]
  },
  {
   "cell_type": "markdown",
   "metadata": {},
   "source": [
    "create a function to predict next word based on trigram model and return a chart of predicted words"
   ]
  },
  {
   "cell_type": "code",
   "execution_count": 14,
   "metadata": {},
   "outputs": [],
   "source": [
    "def predict_next_word_chart(two_words):\n",
    "    first_word, second_word = two_words.split()\n",
    "   # get the next word dict for the given 1st, 2nd word\n",
    "    next_word = trigram_model[(first_word, second_word)]\n",
    "    \n",
    "    # Get top 10 words whose first two words are first_word and second_word\n",
    "    top10words = Counter(next_word).most_common(10)\n",
    "    \n",
    "    if(len(top10words) > 0):\n",
    "        predicted_words = list(zip(*top10words))[0]\n",
    "        probability_score = list(zip(*top10words))[1]\n",
    "        x_pos = np.arange(len(predicted_words))\n",
    "    \n",
    "        # calculate slope and intercept for the linear trend line\n",
    "        #slope, intercept = np.polyfit(x_pos, probability_score, 1)\n",
    "    \n",
    "        plt.bar(x_pos, probability_score, align='center')\n",
    "        for i in range(len(x_pos)):\n",
    "            plt.text(x = i , y = probability_score[i], \n",
    "                 s = round(probability_score[i], 4))\n",
    "        plt.xticks(x_pos, predicted_words)\n",
    "        plt.ylabel('Probability Score')\n",
    "        plt.xlabel('Predicted Words')\n",
    "        plt.title(f'Predicted words for \"{first_word} {second_word}\" with Trigram model')\n",
    "        plt.show()\n",
    "    else:\n",
    "        print(\"No history for the given sequence found...\", first_word, second_word)"
   ]
  },
  {
   "cell_type": "markdown",
   "metadata": {},
   "source": [
    "Build the trigram model"
   ]
  },
  {
   "cell_type": "code",
   "execution_count": 15,
   "metadata": {},
   "outputs": [],
   "source": [
    "trigram_model = build_trigram_model()"
   ]
  },
  {
   "cell_type": "code",
   "execution_count": 16,
   "metadata": {},
   "outputs": [
    {
     "data": {
      "image/png": "[encoded data removed]",
      "text/plain": [
       "<Figure size 432x288 with 1 Axes>"
      ]
     },
     "metadata": {
      "needs_background": "light"
     },
     "output_type": "display_data"
    }
   ],
   "source": [
    "predict_next_word_chart('this movie')"
   ]
  },
  {
   "cell_type": "code",
   "execution_count": 17,
   "metadata": {},
   "outputs": [
    {
     "name": "stdout",
     "output_type": "stream",
     "text": [
      "No history for the given sequence found... comedy movie\n"
     ]
    }
   ],
   "source": [
    "# there is no next word for two preceding words,'comedy movie'\n",
    "predict_next_word_chart('comedy movie')"
   ]
  },
  {
   "cell_type": "markdown",
   "metadata": {},
   "source": [
    "create a function that return a word that was predicted by the trigram model;  \n",
    "if there is no combination in trigram model, backoff to the bigram model;  \n",
    "if there is no combination in bigram model, return none.  "
   ]
  },
  {
   "cell_type": "code",
   "execution_count": 18,
   "metadata": {},
   "outputs": [],
   "source": [
    "def trigram_predict_next_word(two_words):\n",
    "    first_word, second_word = two_words.split()\n",
    "    if len(trigram_model[(first_word, second_word)])== 0:\n",
    "        return bigram_predict_next_word(second_word)\n",
    "    else:\n",
    "        next_word = trigram_model[(first_word, second_word)]\n",
    "        # get the top 10 words whose first word is 'first_word'\n",
    "        top10words = Counter(next_word).most_common(10)\n",
    "        predicted_words = list(zip(*top10words))[0] #unpack the list to words/prob\n",
    "        probability_score = list(zip(*top10words))[1]\n",
    "        x_pos = np.arange(len(predicted_words))\n",
    "        return predicted_words[0] # return the top words, currently cannot solve the words with same probability"
   ]
  },
  {
   "cell_type": "code",
   "execution_count": 19,
   "metadata": {},
   "outputs": [
    {
     "data": {
      "text/plain": [
       "'with'"
      ]
     },
     "execution_count": 19,
     "metadata": {},
     "output_type": "execute_result"
    }
   ],
   "source": [
    "trigram_predict_next_word('comedy movie')"
   ]
  },
  {
   "cell_type": "code",
   "execution_count": 20,
   "metadata": {},
   "outputs": [],
   "source": [
    "# return None because there is no next word for two preceding words,'movie hi'\n",
    "trigram_predict_next_word(\"movie hi\")"
   ]
  },
  {
   "cell_type": "markdown",
   "metadata": {},
   "source": [
    "# Save and load model"
   ]
  },
  {
   "cell_type": "markdown",
   "metadata": {},
   "source": [
    "The n-gram model has high computation cost. To increase the efficiency, the model should be save after it has been trained."
   ]
  },
  {
   "cell_type": "code",
   "execution_count": 21,
   "metadata": {},
   "outputs": [],
   "source": [
    "# pip install dill==0.2.7.1"
   ]
  },
  {
   "cell_type": "markdown",
   "metadata": {},
   "source": [
    "save the model"
   ]
  },
  {
   "cell_type": "code",
   "execution_count": 22,
   "metadata": {},
   "outputs": [],
   "source": [
    "import dill\n",
    "with open('trigram_model.p', 'wb') as file:\n",
    "    dill.dump(trigram_model, file, protocol=dill.HIGHEST_PROTOCOL)\n",
    "    \n",
    "with open('bigram_model.p', 'wb') as file:\n",
    "    dill.dump(bigram_model, file, protocol=dill.HIGHEST_PROTOCOL)"
   ]
  },
  {
   "cell_type": "markdown",
   "metadata": {},
   "source": [
    "Load the model"
   ]
  },
  {
   "cell_type": "code",
   "execution_count": 23,
   "metadata": {},
   "outputs": [],
   "source": [
    "#with open('bigram_model.p', 'rb') as file:\n",
    "#    bigram_model = dill.load(file)\n",
    "#with open('bigram_model.p', 'rb') as file:\n",
    "#    trigram_model = dill.load(file)\n",
    "    "
   ]
  }
 ],
 "metadata": {
  "kernelspec": {
   "display_name": "Python 3",
   "language": "python",
   "name": "python3"
  },
  "language_info": {
   "codemirror_mode": {
    "name": "ipython",
    "version": 3
   },
   "file_extension": ".py",
   "mimetype": "text/x-python",
   "name": "python",
   "nbconvert_exporter": "python",
   "pygments_lexer": "ipython3",
   "version": "3.7.3"
  }
 },
 "nbformat": 4,
 "nbformat_minor": 4
}
