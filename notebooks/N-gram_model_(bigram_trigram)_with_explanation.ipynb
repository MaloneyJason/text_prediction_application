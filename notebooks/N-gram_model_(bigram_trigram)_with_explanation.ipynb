{
 "cells": [
  {
   "cell_type": "markdown",
   "metadata": {},
   "source": [
    "# N-gram model (bigram and trigram)"
   ]
  },
  {
   "cell_type": "markdown",
   "metadata": {},
   "source": [
    "This n-gram model was built by bigram model and trigram model using backoff approach."
   ]
  },
  {
   "cell_type": "markdown",
   "metadata": {},
   "source": [
    "## Concept"
   ]
  },
  {
   "cell_type": "markdown",
   "metadata": {},
   "source": [
    "__Note:__ the expression $W_1^{n-1}$ means the string $w_1,w_2,...,w_{n-1}$\n",
    "\n",
    "Applying **chain rule of probability**:\n",
    "> $P(X_1...X_n) = P(X_1)P(X_2|X_1)P(X_3|X_1^2)...P(X_n|X_1^{n-1})$  \n",
    ">= $\\displaystyle\\prod_{k=1}^{n} P(X_k|X_1^{k-1})$     \n",
    "*(equation  1)*\n",
    "\n",
    "Applying **chain rule** to words:\n",
    "> $P(w_1^n) = P(w_1)P(w_2|w_1)P(w_3|w_1^2)...P(w_n|w_1^{n-1})$  \n",
    ">= $\\displaystyle\\prod_{k=1}^{n} P(w_k|w_1^{k-1})$  \n",
    "*(equation  2)*\n",
    "\n",
    "The bigram model to predict the condition probability of the next word, use the following approximation:\n",
    "> $P(w_n|w_1^{n-1})\\approx P(w_n|w_{n-1})$  \n",
    "*(equation  3)*\n",
    "\n",
    "The general equation for n-gram approximation to the conditional probability of the next word in a sequence is:\n",
    "> $P(w_n|w_1^{n-1})\\approx P(w_n|w_{n-N+1}^{n-1})$   \n",
    "*(equation  4)*\n",
    "\n",
    "According to the **equation 4**, the next word in the sentence depends on its immediate past words, known as context words.  \n",
    "> $P(w_{n} | w_{n-N+1}, w_{n-N},..., w_{n-1})$ where $w_{n-N+1}, w_{n-N},..., w_{n-1}$ is the context words\n",
    "\n",
    "__Inferred equations for n-grams__:  \n",
    "> bigram (N=1)  :  $P(w_{n}| w_{n-1})$  \n",
    "  trigram (N=2) :  $P(w_{n}| w_{n-2}, w_{n-1})$  \n",
    "  4-gram  (N=3) :  $P(w_{n}| w_{n-3}, w_{n-2})$  \n",
    "\n",
    "To get the n-gram probabilities, use estilmate probabilities, __maximum likelihood estimation__ (__MLE__), and normalize the counts so the probability can lie between 0 and 1. Here is the example for computing a bigram probability:\n",
    "> $P(w_n | w_{n-1}) = \\frac{C(w_{n-1}w_n)}{\\displaystyle\\sum_{w}C(w_{n-1}w)} $  \n",
    "*(equation  5)*\n",
    "\n",
    "The equation 5 can be simplified. Since the sum of all bigram counts that start with a given word $w_{n-1}$ must be equal to the unigram count for that word $w_{n-1}$:\n",
    "> $P(w_n | w_{n-1}) = \\frac{C(w_{n-1}w_n)}{C(w_{n-1})} $  \n",
    "*(equation  6)*\n",
    "\n",
    "__Generalized equations for n-grams__:  \n",
    "> bigram (N=1)  :  $P(w_{n}| w_{n-1}) = \\frac{C(w_{n-1}w_n)}{C(w_{n-1})}$  \n",
    "  trigram (N=2) :  $P(w_{n}| w_{n-2}, w_{n-1})= \\frac{C(w_{n-2}w_{n-1}w_n)}{C(w_{n-2}w_{n-1})}$  \n",
    "  4-gram  (N=3) :  $P(w_{n}| w_{n-3}, w_{n-2}, w_{n-1})= \\frac{C(w_{n-3}w_{n-2}w_{n-1}w_n)}{C(w_{n-3}w_{n-2}w_{n-1})}$  \n",
    "\n",
    "\n",
    "Reference:[Speech and Language Processing : Chapter 3]"
   ]
  },
  {
   "cell_type": "markdown",
   "metadata": {},
   "source": [
    "## Code\n"
   ]
  },
  {
   "cell_type": "markdown",
   "metadata": {},
   "source": [
    "`bigrams`, `trigrams` are used for creating models. `defaultdict` is for creating a nested dictionary with default value. \n",
    "`TweetTokenizer` to tokenize the words and symbols (can be replaced by other tokenizer). `numpy` for plotting the predicted words. `random` for randomly choosing the word with the same probability,"
   ]
  },
  {
   "cell_type": "code",
   "execution_count": 1,
   "metadata": {},
   "outputs": [],
   "source": [
    "from nltk import bigrams, trigrams\n",
    "from collections import Counter, defaultdict\n",
    "from nltk.tokenize import TweetTokenizer\n",
    "import numpy as np\n",
    "import matplotlib.pyplot as plt\n",
    "import random"
   ]
  },
  {
   "cell_type": "markdown",
   "metadata": {},
   "source": [
    "sample review, 5 reviews. Each review is stored in an element of a list."
   ]
  },
  {
   "cell_type": "code",
   "execution_count": 2,
   "metadata": {},
   "outputs": [],
   "source": [
    "text_list = [\"For a movie that gets no respect there sure are a lot of memorable quotes listed for this gem. Imagine a movie where Joe Piscopo is actually funny! Maureen Stapleton is a scene stealer. The Moroni character is an absolute scream. Watch for Alan \"\"The Skipper\"\" Hale jr. as a police Sgt.\"\n",
    "             ,\"Bizarre horror movie filled with famous faces but stolen by Cristina Raines (later of TV's \"\"Flamingo Road\"\") as a pretty but somewhat unstable model with a gummy smile who is slated to pay for her attempted suicides by guarding the Gateway to Hell! The scenes with Raines modeling are very well captured, the mood music is perfect, Deborah Raffin is charming as Cristina's pal, but when Raines moves into a creepy Brooklyn Heights brownstone (inhabited by a blind priest on the top floor), things really start cooking. The neighbors, including a fantastically wicked Burgess Meredith and kinky couple Sylvia Miles & Beverly D'Angelo, are a diabolical lot, and Eli Wallach is great fun as a wily police detective. The movie is nearly a cross-pollination of \"\"Rosemary's Baby\"\" and \"\"The Exorcist\"\"--but what a combination! Based on the best-seller by Jeffrey Konvitz, \"\"The Sentinel\"\" is entertainingly spooky, full of shocks brought off well by director Michael Winner, who mounts a thoughtfully downbeat ending with skill. ***1/2 from ****\"\n",
    "             , \"I saw the movie with two grown children. Although it was not as clever as Shrek, I thought it was rather good. In a movie theatre surrounded by children who were on spring break, there was not a sound so I know the children all liked it. There parents also seemed engaged. The death and apparent death of characters brought about the appropriate gasps and comments. Hopefully people realize this movie was made for kids. As such, it was successful although I liked it too. Personally I liked the Scrat!!\"\n",
    "            , \"You're using the IMDb.  You've given some hefty votes to some of your favourite films.  It's something you enjoy doing.  And it's all because of this. Fifty seconds. One world ends, another begins.  How can it not be given a ten? I wonder at those who give this a seven or an eight... exactly how could THE FIRST FILM EVER MADE be better? For the record, the long, still opening shot is great showmanship, a superb innovation, perfectly suited to the situation. And the dog on the bike is a lovely touch. All this within fifty seconds.  The word genius is often overused.  THIS is genius.\"\n",
    "            , \"Made after QUARTET was, TRIO continued the quality of the earlier film versions of the short stories by Maugham. Here the three stories are THE VERGER, MR. KNOW-IT-ALL, and SANITORIUM. The first two are comic (THE VERGER is like a prolonged joke, but one with a good pay-off), and the last more serious (as health issues are involved). Again the author introduces the film and the stories.  James Hayter, soon to have his signature role as Samuel Pickwick, is the hero in THE VERGER. He holds this small custodial-type job in a church, but the new Vicar (Michael Hordern) is an intellectual snob. When he hears Hayter has no schooling he fires him. Hayter has saved some money, so he tells his wife (Kathleen Harrison) he fancies buying a small news and tobacco shop. He has a good eye, and his store thrives. Soon he has a whole chain of stores. When his grandchild is christened by Hordern, the latter is amazed to see how prosperous his ex-Verger. The payoff is when bank manager Felix Aylmer meets with Hayter about diversifying his investments. I'll leave it to you to hear the unintentional but ironic coda of the meeting.  According to Maugham he met a man like Max Kelada (Nigel Patrick) on a cruise. In MR. KNOW-IT-ALL Kelada is a splashy, friendly, and slightly overbearing type from the Middle East who is on a business trip (regarding jewelry) by steamship. His state-room mate is Mr. Grey (the ever quiet and proper Wilfred Hyde-White) who is somewhat, silently disapproving of Max. Max likes to enliven things, and soon is heavily involved in the ship's entertainment. At this point the story actually resembles part of the plot of the non-Maugham story and film CHINA SEAS (1935), as Max makes a bet that he can tell a real piece of jewelry from a fake (after insisting that a piece of jewelry he spotted is real). I won't describe the way Max rises to the occasion.  SANITORIUM is the longest segment. Roland Culver plays \"\"Ashenden\"\" (the fictional alter-ego of Maugham - a writer and one time spy as in Hitchcock's THE SECRET AGENT). Here he has to use a sanitorium for a couple of months for his health. He finds a remarkable crew of people, including Jean Simmons as a frail but beautiful young woman, Finlay Currie as an irascible Scotsman, John Laurie as a second irascible Scotsman who is \"\"at war\"\" with Currie, Raymond Huntley as a quiet patient who only shows his internal anger at his situation when his wife shows up, and Michael Rennie as a young man who has a serious life threatening illness. Culver watches as three stories among these characters play out to their conclusions. The last, dealing with Simmons and Rennie, is ironic but deeply moving.  It was a dandy follow-up to the earlier QUARTET, and well worth watching.\"\n",
    "            , \"A favourite of mine,this movie tells of two feuding New York \"\"characters\"\", Steve Brodie(Raft) and \"\"Chuck\"\" Connors(Beery),who both strive to be the \"\"Main Guy\"\" in the Bowery in the late Nineteenth Century.  Brodie(1863-1901) and Connors(1852-1913),were real people,though this is a heavily fictionalized account of their antics(based on a play).Brodie's legendary(did he do it?- it's still a cause of argument!),jump from the Brooklyn bridge(1886),for which he became famous,is shown here as happening around the same time as the Spanish-American war(1898).Director Walsh clearly had a great affection for the period,so beautifully recreated here,and it includes a wild rumbustious ragtime number from saloon singer Trixie Odbray(a young Pert Kelton).Raft is at his slickest as Brodie,and Beery shows again what a clever actor he was,as tough, big hearted, and at times quite touching Connors.Pretty Fay Wray is the love interest both the boys are pursuing.  Full of life and energy,\"\"The Bowery\"\" moves at a fast pace(unlike many early \"\"talkies\"\").It is not an easy movie to find,but is well worth looking out for.\"\n",
    "            , \"Hood of the Living Dead had a lot to live up to even before the opening credits began. First, any play on \"\"...of the living dead\"\" invokes His Holiness Mr. Romero and instantly sets up a high standard to which many movies cannot afford to aspire. And second, my movie-watching companion professed doubt that any urban horror film would surpass the seminal Leprechaun In the Hood. Skeptical, we settled in to watch.   We were rewarded with a surprisingly sincere and good-hearted zombie film. Oh, certainly the budget is low, and of course the directors' amateurs friends populate the cast, but Hood of the Living Dead loves zombie cinema. Cheap? Yeah. But when it's this cheap, you can clearly see where LOVE holds it together.   Ricky works in a lab during the day and as a surrogate parent to his younger brother at night. He dreams of moving out of Oakland. Before this planned escape, however, his brother is shot to death in a drive-by. Ricky's keen scientific mind presents an option superior to CPR or 911: injections of his lab's experimental regenerative formula. Sadly, little bro wakes up in an ambulance as a bloodthirsty Oakland zombie! Chaos and mayhem! I think it's more economical to eat your enemies than take vengeance in a drive-by, but then again, I'm a poor judge of the complexities of urban life. (How poor a judge? In response to a gory scene involving four men, I opined \"\"Ah-ha! White t-shirts on everyone so the blood shows up. Economical! I used the same technique in my own low-budget horror film.\"\" Jordan replied, \"\"No, that's gang dress. White t-shirts were banned from New Orleans bars for a time as a result.\"\" Oh.)  A lot of the movie is set in someone's living room, so there's a great deal of hanging out and waiting for the zombies. But the characters are sympathetic and the movie is sincere-- it surpasses its budget in spirit.   Zombie explanation: When man plays God, zombies arise! Or, perhaps: Follow FDA-approved testing rules before human experimentation!   Contribution to the zombie canon: This is the first zombie movie I've seen with a drive-by shooting. As far as the actual zombies go, infection is spread with a bite as usual, but quite unusually head shots don't work-- it's heart shots that kill. Zombies have pulses, the absence of which proves true death. And these zombies make pretty cool jaguar-growl noises.   Gratuitous zombie movie in-joke: A mercenary named Romero. Groan.   Favorite zombie: Jaguar-noise little brother zombie, of course!\"\n",
    "            , \"I happen to run into this movie one night so I decided to watch it! I was very pleased with the movie... I thought it was a wonderful plot. It's a great feeling knowing a deceased one has come back and you get that second chance to say what you want to say! And this wife stayed devoted for 23 years!!! I thought it was a great movie!!\"\n",
    "            , \"I sit through movies like \"\"Tiempo de valientes\"\" and I want to talk about cinema for hours. The admiration this movie caused me is beyond my own limits of explanation, because I'm watching the scenes of the film and I search inside my thoughts for film-making ideas and dialogue innovations that could emerge from something bigger than Damian Szifron's mind.  Looking the environment, so uncompromised, so simple, I'm thinking; this man is a genius. No wonder he created what is probably the best television show Argentina ever witnessed, and then a first movie full of elements some contemporary directors haven't still achieved. \"\"El fondo del mar\"\" is the name and, it awakened (a few years ago), my enthusiasm for our everyday cinema.  Starting his journey from people's daily real lives, Szifron goes where Pablo Trapero never could in \"\"El Bonaerense\"\"; the Federal Police Department's life. Trapero's film was a journey into a man's mind and experiences, not into the places he saw. Yes, there was a detailed training and lots of crime situations, but Szifron in \"\"in there\"\", his is more of a detective story, like the ones we know and love, with the mysteries and the thrilling music.  But there's a lot of humanity in his writing, and he shows us his investigation through the eyes of his main characters, Alfredo Díaz and Mariano Silverstein. There are a lot of actors of great caliber in the film, but these two actors are the ones the film can't do without. The first character (Luis Luque) is a detective that has just found out his wife cheats on him; and has to work on a case.  The second one is a psychiatrist that is assigned the treatment of the detective. He wants to deal with him in regular sessions but the sheriff takes advantage of the time disposition and suggests he joins Díaz in his routines: \"\"It's nothing, the usual stuff; no problem\"\". But it is bigger than that, and it will unfold a part of the doctor's personality he didn't know.  The relationship developed between the two leads can't be explained unless it is observed, because it regards such a complexity that demonstrates how talented are some men like Szifron that are trying, today, to leave a signature in our history. Reaching points of unbelievable spontaneity, during a high pressure situation, Díaz tells Silverstein: \"\"How do we continue our treatment?\"\", and Silverstein answers: \"\"No, I'm not your doctor. You call me to have dinner; I'm your friend\"\": we laugh because we can't help it.  And we can't help laughing when Díaz crashes a car in the street and doesn't gives importance to it, or when he trespasses all the red lights in the street, or when he smokes pot in his police patrol and Silverstein can't believe it (but then smokes it too because he's screwed up); or when Silverstein tries to be friendly with Díaz's robber friends. Magic from Diego Peretti is what we receive there. He, a psychiatrist himself, gives a performance in plan \"\"Locas de amor\"\", but impresses with all his range. Luis Luque on the other hand, is back on track with a top-notch portrayal that reminds us the great actor he is.  There's a passion I have for this, and as I said, I could write about it for hours, but unfortunately that's not the way it works and I have to be precise and summarize. Although I have to watch a lot of the old movies and study them, I could assure that \"\"Tiempo de valientes\"\" is the comedy Argentina had been waiting for and never got",
    "Until now.\"\n",
    "            , \"Caught the tail end of this movie channel surfing through the cable movie channels, and was so intrigued I sought out the next showing.  I really didn't know what to expect after reading the program summary, but I came away from this movie feeling quite disturbed and distressed. It also gave me as adult who attended high school in the 80's, a little better insight into what our kids have to contend with these days.  The fact that you don't see the shooting only adds to the chillness of the plot. To see both child and adult alike struggle to comprehend and come to terms with the senseless shootings was at times overwhelming. And will admit that I shed quite a few tears throughout.  On the whole, not a movie that I would seek out to what, however I am sure glad I did see it.\"]"
   ]
  },
  {
   "cell_type": "markdown",
   "metadata": {},
   "source": [
    "tokenize the text by review (sentence)"
   ]
  },
  {
   "cell_type": "code",
   "execution_count": 3,
   "metadata": {},
   "outputs": [
    {
     "name": "stdout",
     "output_type": "stream",
     "text": [
      "Wall time: 8.98 ms\n"
     ]
    }
   ],
   "source": [
    "%%time\n",
    "tokenizer = TweetTokenizer()  # tokenizer can be changed\n",
    "sentences_tokens = [tokenizer.tokenize(text) for text in text_list]"
   ]
  },
  {
   "cell_type": "code",
   "execution_count": 4,
   "metadata": {},
   "outputs": [
    {
     "data": {
      "text/plain": [
       "10"
      ]
     },
     "execution_count": 4,
     "metadata": {},
     "output_type": "execute_result"
    }
   ],
   "source": [
    "# Check the number of sentences words in a list\n",
    "len(sentences_tokens)"
   ]
  },
  {
   "cell_type": "markdown",
   "metadata": {},
   "source": [
    "create a function to build a default dictionary. It is used for saving the model with `dill` library"
   ]
  },
  {
   "cell_type": "code",
   "execution_count": 5,
   "metadata": {},
   "outputs": [],
   "source": [
    "def default_dict():\n",
    "    return defaultdict(int)"
   ]
  },
  {
   "cell_type": "markdown",
   "metadata": {},
   "source": [
    "create a function to build a bigram model"
   ]
  },
  {
   "cell_type": "code",
   "execution_count": 6,
   "metadata": {},
   "outputs": [],
   "source": [
    "def build_bigram_model():\n",
    "    bigram_model = defaultdict(default_dict)  # create a model mold\n",
    "    for sentence in sentences_tokens: # in every sentence\n",
    "        clean_sentence = [word.lower() for word in sentence if word.isalpha()] #get alpha only\n",
    "        # Collect all bigrams counts for (w1, w2)\n",
    "        for w1, w2 in bigrams(clean_sentence):\n",
    "            bigram_model[w1][w2] += 1\n",
    "            \n",
    "    # compute the probability  \n",
    "    for w1 in bigram_model:\n",
    "        # total count of bigram containing w1\n",
    "        total_count =float(sum(bigram_model[w1].values()))\n",
    "        # calcualte the probability for all bigrams starting with w1\n",
    "        for w2 in bigram_model[w1]:\n",
    "            bigram_model[w1][w2] /= total_count\n",
    "    return bigram_model"
   ]
  },
  {
   "cell_type": "markdown",
   "metadata": {},
   "source": [
    "create a function to predict next word based on bigram model and return a chart of predicted words"
   ]
  },
  {
   "cell_type": "code",
   "execution_count": 7,
   "metadata": {},
   "outputs": [],
   "source": [
    "def bigram_predict_next_word_chart(first_word):\n",
    "    second_word = bigram_model[first_word]\n",
    "    # get the top 10 words whose first word is 'first_word'\n",
    "    top10words = Counter(second_word).most_common(10)\n",
    "    predicted_words = list(zip(*top10words))[0] #unpack the list to words/prob\n",
    "    probability_score = list(zip(*top10words))[1]\n",
    "    x_pos = np.arange(len(predicted_words))\n",
    "    \n",
    "    plt.bar(x_pos, probability_score, align='center')\n",
    "    for i in range(len(x_pos)):\n",
    "        plt.text(x = i - 0.45 , y = probability_score[i], \n",
    "             s = round(probability_score[i], 3))\n",
    "    plt.xticks(x_pos, predicted_words)\n",
    "    plt.ylabel('Probability Score')\n",
    "    plt.xlabel('Predicted words')\n",
    "    plt.title(f'Predicted words for \"{first_word}\" with Bigram model')\n",
    "    plt.show()"
   ]
  },
  {
   "cell_type": "code",
   "execution_count": 8,
   "metadata": {},
   "outputs": [
    {
     "name": "stdout",
     "output_type": "stream",
     "text": [
      "Wall time: 3.99 ms\n"
     ]
    }
   ],
   "source": [
    "%%time\n",
    "# create a bigram model\n",
    "bigram_model = build_bigram_model()"
   ]
  },
  {
   "cell_type": "code",
   "execution_count": 9,
   "metadata": {
    "scrolled": true
   },
   "outputs": [
    {
     "data": {
      "text/plain": [
       "defaultdict(int,\n",
       "            {'that': 0.09523809523809523,\n",
       "             'where': 0.047619047619047616,\n",
       "             'filled': 0.047619047619047616,\n",
       "             'is': 0.14285714285714285,\n",
       "             'with': 0.047619047619047616,\n",
       "             'theatre': 0.047619047619047616,\n",
       "             'was': 0.047619047619047616,\n",
       "             'tells': 0.047619047619047616,\n",
       "             'to': 0.047619047619047616,\n",
       "             'seen': 0.047619047619047616,\n",
       "             'a': 0.047619047619047616,\n",
       "             'one': 0.047619047619047616,\n",
       "             'i': 0.047619047619047616,\n",
       "             'caused': 0.047619047619047616,\n",
       "             'full': 0.047619047619047616,\n",
       "             'channel': 0.047619047619047616,\n",
       "             'channels': 0.047619047619047616,\n",
       "             'feeling': 0.047619047619047616})"
      ]
     },
     "execution_count": 9,
     "metadata": {},
     "output_type": "execute_result"
    }
   ],
   "source": [
    "bigram_model['movie']"
   ]
  },
  {
   "cell_type": "code",
   "execution_count": 10,
   "metadata": {},
   "outputs": [
    {
     "data": {
      "image/png": "[encoded data removed]",
      "text/plain": [
       "<Figure size 432x288 with 1 Axes>"
      ]
     },
     "metadata": {
      "needs_background": "light"
     },
     "output_type": "display_data"
    }
   ],
   "source": [
    "bigram_predict_next_word_chart('movie')"
   ]
  },
  {
   "cell_type": "markdown",
   "metadata": {},
   "source": [
    "create a function that return a word that was predicted by the bigram model"
   ]
  },
  {
   "cell_type": "code",
   "execution_count": 11,
   "metadata": {},
   "outputs": [],
   "source": [
    "def bigram_predict_next_word(firstword):\n",
    "    if len(bigram_model[firstword])== 0:\n",
    "        return None\n",
    "    else:\n",
    "        second_word = bigram_model[firstword]\n",
    "        # get the top 10 words whose first word is 'first_word'\n",
    "        top10words = Counter(second_word).most_common(10)\n",
    "        predicted_words = list(zip(*top10words))[0] #unpack the list to words/prob\n",
    "        probability_score = list(zip(*top10words))[1]\n",
    "        x_pos = np.arange(len(predicted_words))\n",
    "        return predicted_words[0] # return the top words, currently cannot solve the words with same probability"
   ]
  },
  {
   "cell_type": "code",
   "execution_count": 12,
   "metadata": {},
   "outputs": [
    {
     "data": {
      "text/plain": [
       "'is'"
      ]
     },
     "execution_count": 12,
     "metadata": {},
     "output_type": "execute_result"
    }
   ],
   "source": [
    "bigram_predict_next_word('movie')"
   ]
  },
  {
   "cell_type": "code",
   "execution_count": 13,
   "metadata": {},
   "outputs": [],
   "source": [
    "# it returns None because there is no next word for the word,'hi'\n",
    "bigram_predict_next_word('hi')"
   ]
  },
  {
   "cell_type": "markdown",
   "metadata": {},
   "source": [
    "Create function to build a trigram model "
   ]
  },
  {
   "cell_type": "code",
   "execution_count": 14,
   "metadata": {},
   "outputs": [],
   "source": [
    "def build_trigram_model():\n",
    "    trigram_model = defaultdict(default_dict)  # create a model mold\n",
    "    for sentence in sentences_tokens: # in every sentence\n",
    "        clean_sentence = [word.lower() for word in sentence if word.isalpha()] #get alpha only\n",
    "        # Collect all bigrams counts for (w1, w2)\n",
    "        for w1, w2, w3 in trigrams(clean_sentence):\n",
    "            trigram_model[(w1, w2)][w3] += 1\n",
    "            \n",
    "    # compute the probability\n",
    "    for w1_w2 in trigram_model:\n",
    "        # total count of trigram containing w1, w2\n",
    "        trigram_total_count = float(sum(trigram_model[w1_w2].values()))\n",
    "        for w3 in trigram_model[w1_w2]:\n",
    "            trigram_model[w1_w2][w3] /= trigram_total_count\n",
    "    return trigram_model"
   ]
  },
  {
   "cell_type": "markdown",
   "metadata": {},
   "source": [
    "create a function to predict next word based on trigram model and return a chart of predicted words"
   ]
  },
  {
   "cell_type": "code",
   "execution_count": 15,
   "metadata": {},
   "outputs": [],
   "source": [
    "def trigram_predict_next_word_chart(two_words):\n",
    "    first_word, second_word = two_words.split()\n",
    "   # get the next word dict for the given 1st, 2nd word\n",
    "    next_word = trigram_model[(first_word, second_word)]\n",
    "    \n",
    "    # Get top 10 words whose first two words are first_word and second_word\n",
    "    top10words = Counter(next_word).most_common(10)\n",
    "    \n",
    "    if(len(top10words) > 0):\n",
    "        predicted_words = list(zip(*top10words))[0]\n",
    "        probability_score = list(zip(*top10words))[1]\n",
    "        x_pos = np.arange(len(predicted_words))\n",
    "   \n",
    "        plt.bar(x_pos, probability_score, align='center')\n",
    "        for i in range(len(x_pos)):\n",
    "            plt.text(x = i - 0.25 , y = probability_score[i], \n",
    "                 s = round(probability_score[i], 3))\n",
    "        plt.xticks(x_pos, predicted_words)\n",
    "        plt.ylabel('Probability Score')\n",
    "        plt.xlabel('Predicted Words')\n",
    "        plt.title(f'Predicted words for \"{first_word} {second_word}\" with Trigram model')\n",
    "        plt.show()\n",
    "    else:\n",
    "        print(f'There is no predicted word for \"{first_word} {second_word}\" with Trigram model')"
   ]
  },
  {
   "cell_type": "markdown",
   "metadata": {},
   "source": [
    "Build the trigram model"
   ]
  },
  {
   "cell_type": "code",
   "execution_count": 16,
   "metadata": {},
   "outputs": [
    {
     "name": "stdout",
     "output_type": "stream",
     "text": [
      "Wall time: 4.99 ms\n"
     ]
    }
   ],
   "source": [
    "%%time\n",
    "trigram_model = build_trigram_model()"
   ]
  },
  {
   "cell_type": "code",
   "execution_count": 17,
   "metadata": {},
   "outputs": [
    {
     "data": {
      "image/png": "[encoded data removed]",
      "text/plain": [
       "<Figure size 432x288 with 1 Axes>"
      ]
     },
     "metadata": {
      "needs_background": "light"
     },
     "output_type": "display_data"
    }
   ],
   "source": [
    "trigram_predict_next_word_chart('this movie')"
   ]
  },
  {
   "cell_type": "code",
   "execution_count": 18,
   "metadata": {},
   "outputs": [
    {
     "data": {
      "image/png": "[encoded data removed]",
      "text/plain": [
       "<Figure size 432x288 with 1 Axes>"
      ]
     },
     "metadata": {
      "needs_background": "light"
     },
     "output_type": "display_data"
    }
   ],
   "source": [
    "trigram_predict_next_word_chart('the movie')"
   ]
  },
  {
   "cell_type": "code",
   "execution_count": 19,
   "metadata": {},
   "outputs": [
    {
     "data": {
      "image/png": "[encoded data removed]",
      "text/plain": [
       "<Figure size 432x288 with 1 Axes>"
      ]
     },
     "metadata": {
      "needs_background": "light"
     },
     "output_type": "display_data"
    }
   ],
   "source": [
    "trigram_predict_next_word_chart('a movie')"
   ]
  },
  {
   "cell_type": "code",
   "execution_count": 20,
   "metadata": {},
   "outputs": [
    {
     "name": "stdout",
     "output_type": "stream",
     "text": [
      "There is no predicted word for \"that movie\" with Trigram model\n"
     ]
    }
   ],
   "source": [
    "trigram_predict_next_word_chart('that movie')"
   ]
  },
  {
   "cell_type": "code",
   "execution_count": 21,
   "metadata": {},
   "outputs": [
    {
     "name": "stdout",
     "output_type": "stream",
     "text": [
      "There is no predicted word for \"comedy movie\" with Trigram model\n"
     ]
    }
   ],
   "source": [
    "# there is no next word for two preceding words,'comedy movie'\n",
    "trigram_predict_next_word_chart('comedy movie')"
   ]
  },
  {
   "cell_type": "markdown",
   "metadata": {},
   "source": [
    "### Combing trigram and bigram for next word prediction\n",
    "create a function that returns a word predicted by the trigram model;  \n",
    "if there is no combination in trigram model, backoff to the bigram model;  \n",
    "if there is no combination in bigram model, return none.  "
   ]
  },
  {
   "cell_type": "code",
   "execution_count": 22,
   "metadata": {},
   "outputs": [],
   "source": [
    "def trigram_predict_next_word(two_words):\n",
    "    first_word, second_word = two_words.split()\n",
    "    if len(trigram_model[(first_word, second_word)])== 0:\n",
    "        return bigram_predict_next_word(second_word)\n",
    "    else:\n",
    "        next_word = trigram_model[(first_word, second_word)]\n",
    "        # get the top 10 words whose first word is 'first_word'\n",
    "        top10words = Counter(next_word).most_common(10)\n",
    "        predicted_words = list(zip(*top10words))[0] #unpack the list to words/prob\n",
    "        probability_score = list(zip(*top10words))[1]\n",
    "        x_pos = np.arange(len(predicted_words))\n",
    "        return predicted_words[0] # return the top words, currently cannot solve the words with same probability"
   ]
  },
  {
   "cell_type": "code",
   "execution_count": 23,
   "metadata": {},
   "outputs": [
    {
     "data": {
      "text/plain": [
       "'that'"
      ]
     },
     "execution_count": 23,
     "metadata": {},
     "output_type": "execute_result"
    }
   ],
   "source": [
    "trigram_predict_next_word('a movie')"
   ]
  },
  {
   "cell_type": "code",
   "execution_count": 24,
   "metadata": {},
   "outputs": [
    {
     "data": {
      "text/plain": [
       "'is'"
      ]
     },
     "execution_count": 24,
     "metadata": {},
     "output_type": "execute_result"
    }
   ],
   "source": [
    "trigram_predict_next_word('comedy movie')"
   ]
  },
  {
   "cell_type": "code",
   "execution_count": 25,
   "metadata": {},
   "outputs": [
    {
     "data": {
      "text/plain": [
       "'is'"
      ]
     },
     "execution_count": 25,
     "metadata": {},
     "output_type": "execute_result"
    }
   ],
   "source": [
    "trigram_predict_next_word('that movie')"
   ]
  },
  {
   "cell_type": "code",
   "execution_count": 26,
   "metadata": {},
   "outputs": [],
   "source": [
    "# return None because there is no next word for two preceding words,'movie hi'\n",
    "trigram_predict_next_word(\"movie hi\")"
   ]
  },
  {
   "cell_type": "markdown",
   "metadata": {},
   "source": [
    "# Save and load model"
   ]
  },
  {
   "cell_type": "markdown",
   "metadata": {},
   "source": [
    "The n-gram model has high computation cost. To increase the efficiency, the model should be save after it has been trained."
   ]
  },
  {
   "cell_type": "code",
   "execution_count": 27,
   "metadata": {},
   "outputs": [],
   "source": [
    "# pip install dill==0.2.7.1"
   ]
  },
  {
   "cell_type": "markdown",
   "metadata": {},
   "source": [
    "save the model"
   ]
  },
  {
   "cell_type": "code",
   "execution_count": 28,
   "metadata": {},
   "outputs": [],
   "source": [
    "import dill\n",
    "with open('trigram_model.p', 'wb') as file:\n",
    "    dill.dump(trigram_model, file, protocol=dill.HIGHEST_PROTOCOL)\n",
    "    \n",
    "with open('bigram_model.p', 'wb') as file:\n",
    "    dill.dump(bigram_model, file, protocol=dill.HIGHEST_PROTOCOL)"
   ]
  },
  {
   "cell_type": "markdown",
   "metadata": {},
   "source": [
    "Load the model"
   ]
  },
  {
   "cell_type": "code",
   "execution_count": 29,
   "metadata": {},
   "outputs": [],
   "source": [
    "#with open('bigram_model.p', 'rb') as file:\n",
    "#    bigram_model = dill.load(file)\n",
    "#with open('bigram_model.p', 'rb') as file:\n",
    "#    trigram_model = dill.load(file)"
   ]
  }
 ],
 "metadata": {
  "kernelspec": {
   "display_name": "Python 3",
   "language": "python",
   "name": "python3"
  },
  "language_info": {
   "codemirror_mode": {
    "name": "ipython",
    "version": 3
   },
   "file_extension": ".py",
   "mimetype": "text/x-python",
   "name": "python",
   "nbconvert_exporter": "python",
   "pygments_lexer": "ipython3",
   "version": "3.7.3"
  }
 },
 "nbformat": 4,
 "nbformat_minor": 4
}
