{
 "cells": [
  {
   "cell_type": "markdown",
   "metadata": {},
   "source": [
    "# Random Forest"
   ]
  },
  {
   "cell_type": "code",
   "execution_count": 1,
   "metadata": {},
   "outputs": [
    {
     "name": "stderr",
     "output_type": "stream",
     "text": [
      "Using TensorFlow backend.\n"
     ]
    }
   ],
   "source": [
    "from numpy.random import seed\n",
    "seed(1)\n",
    "import tensorflow\n",
    "tensorflow.random.set_seed(2)\n",
    "import numpy as np \n",
    "import pandas as pd\n",
    "import matplotlib.pyplot as plt\n",
    "import nltk  # For test pre-processing\n",
    "import re\n",
    "from nltk.corpus import stopwords\n",
    "from nltk.stem.porter import PorterStemmer\n",
    "from sklearn import preprocessing\n",
    "import scikitplot as skplt\n",
    "from sklearn.feature_extraction.text import CountVectorizer\n",
    "from sklearn.ensemble import RandomForestClassifier\n",
    "from sklearn.metrics import confusion_matrix,classification_report\n",
    "from sklearn.metrics import roc_curve,auc\n",
    "import keras\n",
    "from keras.preprocessing.text import Tokenizer\n",
    "from keras.preprocessing.sequence import pad_sequences\n",
    "from keras import Sequential\n",
    "from keras.layers import Embedding,LSTM,Dense\n",
    "import warnings\n",
    "warnings.filterwarnings('ignore')\n",
    "import os\n",
    "import random\n",
    "import glob"
   ]
  },
  {
   "cell_type": "code",
   "execution_count": 2,
   "metadata": {},
   "outputs": [
    {
     "data": {
      "text/html": [
       "<div>\n",
       "<style scoped>\n",
       "    .dataframe tbody tr th:only-of-type {\n",
       "        vertical-align: middle;\n",
       "    }\n",
       "\n",
       "    .dataframe tbody tr th {\n",
       "        vertical-align: top;\n",
       "    }\n",
       "\n",
       "    .dataframe thead th {\n",
       "        text-align: right;\n",
       "    }\n",
       "</style>\n",
       "<table border=\"1\" class=\"dataframe\">\n",
       "  <thead>\n",
       "    <tr style=\"text-align: right;\">\n",
       "      <th></th>\n",
       "      <th>Unnamed: 0</th>\n",
       "      <th>label</th>\n",
       "      <th>reviews</th>\n",
       "    </tr>\n",
       "  </thead>\n",
       "  <tbody>\n",
       "    <tr>\n",
       "      <th>0</th>\n",
       "      <td>0</td>\n",
       "      <td>1</td>\n",
       "      <td>I went and saw this movie last night after bei...</td>\n",
       "    </tr>\n",
       "    <tr>\n",
       "      <th>1</th>\n",
       "      <td>1</td>\n",
       "      <td>1</td>\n",
       "      <td>Actor turned director Bill Paxton follows up h...</td>\n",
       "    </tr>\n",
       "    <tr>\n",
       "      <th>2</th>\n",
       "      <td>2</td>\n",
       "      <td>1</td>\n",
       "      <td>As a recreational golfer with some knowledge o...</td>\n",
       "    </tr>\n",
       "    <tr>\n",
       "      <th>3</th>\n",
       "      <td>3</td>\n",
       "      <td>1</td>\n",
       "      <td>I saw this film in a sneak preview, and it is ...</td>\n",
       "    </tr>\n",
       "    <tr>\n",
       "      <th>4</th>\n",
       "      <td>4</td>\n",
       "      <td>1</td>\n",
       "      <td>Bill Paxton has taken the true story of the 19...</td>\n",
       "    </tr>\n",
       "    <tr>\n",
       "      <th>5</th>\n",
       "      <td>5</td>\n",
       "      <td>1</td>\n",
       "      <td>I saw this film on September 1st, 2005 in Indi...</td>\n",
       "    </tr>\n",
       "    <tr>\n",
       "      <th>6</th>\n",
       "      <td>6</td>\n",
       "      <td>1</td>\n",
       "      <td>Maybe I'm reading into this too much, but I wo...</td>\n",
       "    </tr>\n",
       "    <tr>\n",
       "      <th>7</th>\n",
       "      <td>7</td>\n",
       "      <td>1</td>\n",
       "      <td>I felt this film did have many good qualities....</td>\n",
       "    </tr>\n",
       "    <tr>\n",
       "      <th>8</th>\n",
       "      <td>8</td>\n",
       "      <td>1</td>\n",
       "      <td>This movie is amazing because the fact that th...</td>\n",
       "    </tr>\n",
       "    <tr>\n",
       "      <th>9</th>\n",
       "      <td>9</td>\n",
       "      <td>1</td>\n",
       "      <td>\"Quitting\" may be as much about exiting a pre-...</td>\n",
       "    </tr>\n",
       "  </tbody>\n",
       "</table>\n",
       "</div>"
      ],
      "text/plain": [
       "   Unnamed: 0  label                                            reviews\n",
       "0           0      1  I went and saw this movie last night after bei...\n",
       "1           1      1  Actor turned director Bill Paxton follows up h...\n",
       "2           2      1  As a recreational golfer with some knowledge o...\n",
       "3           3      1  I saw this film in a sneak preview, and it is ...\n",
       "4           4      1  Bill Paxton has taken the true story of the 19...\n",
       "5           5      1  I saw this film on September 1st, 2005 in Indi...\n",
       "6           6      1  Maybe I'm reading into this too much, but I wo...\n",
       "7           7      1  I felt this film did have many good qualities....\n",
       "8           8      1  This movie is amazing because the fact that th...\n",
       "9           9      1  \"Quitting\" may be as much about exiting a pre-..."
      ]
     },
     "execution_count": 2,
     "metadata": {},
     "output_type": "execute_result"
    }
   ],
   "source": [
    "df = pd.read_csv(\"C:/Users/aivii/programsmm/FP736/corpus/combined_csv1.csv\")\n",
    "df.head(10)"
   ]
  },
  {
   "cell_type": "code",
   "execution_count": 3,
   "metadata": {},
   "outputs": [
    {
     "data": {
      "text/html": [
       "<div>\n",
       "<style scoped>\n",
       "    .dataframe tbody tr th:only-of-type {\n",
       "        vertical-align: middle;\n",
       "    }\n",
       "\n",
       "    .dataframe tbody tr th {\n",
       "        vertical-align: top;\n",
       "    }\n",
       "\n",
       "    .dataframe thead th {\n",
       "        text-align: right;\n",
       "    }\n",
       "</style>\n",
       "<table border=\"1\" class=\"dataframe\">\n",
       "  <thead>\n",
       "    <tr style=\"text-align: right;\">\n",
       "      <th></th>\n",
       "      <th>sentiment</th>\n",
       "      <th>reviews</th>\n",
       "    </tr>\n",
       "  </thead>\n",
       "  <tbody>\n",
       "    <tr>\n",
       "      <th>0</th>\n",
       "      <td>1</td>\n",
       "      <td>I went and saw this movie last night after bei...</td>\n",
       "    </tr>\n",
       "    <tr>\n",
       "      <th>1</th>\n",
       "      <td>1</td>\n",
       "      <td>Actor turned director Bill Paxton follows up h...</td>\n",
       "    </tr>\n",
       "    <tr>\n",
       "      <th>2</th>\n",
       "      <td>1</td>\n",
       "      <td>As a recreational golfer with some knowledge o...</td>\n",
       "    </tr>\n",
       "    <tr>\n",
       "      <th>3</th>\n",
       "      <td>1</td>\n",
       "      <td>I saw this film in a sneak preview, and it is ...</td>\n",
       "    </tr>\n",
       "    <tr>\n",
       "      <th>4</th>\n",
       "      <td>1</td>\n",
       "      <td>Bill Paxton has taken the true story of the 19...</td>\n",
       "    </tr>\n",
       "    <tr>\n",
       "      <th>5</th>\n",
       "      <td>1</td>\n",
       "      <td>I saw this film on September 1st, 2005 in Indi...</td>\n",
       "    </tr>\n",
       "    <tr>\n",
       "      <th>6</th>\n",
       "      <td>1</td>\n",
       "      <td>Maybe I'm reading into this too much, but I wo...</td>\n",
       "    </tr>\n",
       "    <tr>\n",
       "      <th>7</th>\n",
       "      <td>1</td>\n",
       "      <td>I felt this film did have many good qualities....</td>\n",
       "    </tr>\n",
       "    <tr>\n",
       "      <th>8</th>\n",
       "      <td>1</td>\n",
       "      <td>This movie is amazing because the fact that th...</td>\n",
       "    </tr>\n",
       "    <tr>\n",
       "      <th>9</th>\n",
       "      <td>1</td>\n",
       "      <td>\"Quitting\" may be as much about exiting a pre-...</td>\n",
       "    </tr>\n",
       "  </tbody>\n",
       "</table>\n",
       "</div>"
      ],
      "text/plain": [
       "   sentiment                                            reviews\n",
       "0          1  I went and saw this movie last night after bei...\n",
       "1          1  Actor turned director Bill Paxton follows up h...\n",
       "2          1  As a recreational golfer with some knowledge o...\n",
       "3          1  I saw this film in a sneak preview, and it is ...\n",
       "4          1  Bill Paxton has taken the true story of the 19...\n",
       "5          1  I saw this film on September 1st, 2005 in Indi...\n",
       "6          1  Maybe I'm reading into this too much, but I wo...\n",
       "7          1  I felt this film did have many good qualities....\n",
       "8          1  This movie is amazing because the fact that th...\n",
       "9          1  \"Quitting\" may be as much about exiting a pre-..."
      ]
     },
     "execution_count": 3,
     "metadata": {},
     "output_type": "execute_result"
    }
   ],
   "source": [
    "#Remove first column\n",
    "df = df.drop(df.columns[0], axis=1)\n",
    "df.rename(columns={'label':'sentiment'}, inplace=True)\n",
    "df.head(10)"
   ]
  },
  {
   "cell_type": "code",
   "execution_count": 4,
   "metadata": {},
   "outputs": [],
   "source": [
    "#df = df.sample(frac=1)"
   ]
  },
  {
   "cell_type": "code",
   "execution_count": 5,
   "metadata": {},
   "outputs": [
    {
     "data": {
      "text/plain": [
       "(50000, 2)"
      ]
     },
     "execution_count": 5,
     "metadata": {},
     "output_type": "execute_result"
    }
   ],
   "source": [
    "df.head(10)\n",
    "df.shape"
   ]
  },
  {
   "cell_type": "code",
   "execution_count": 6,
   "metadata": {},
   "outputs": [
    {
     "name": "stdout",
     "output_type": "stream",
     "text": [
      "General stats::\n",
      "<class 'pandas.core.frame.DataFrame'>\n",
      "RangeIndex: 50000 entries, 0 to 49999\n",
      "Data columns (total 2 columns):\n",
      " #   Column     Non-Null Count  Dtype \n",
      "---  ------     --------------  ----- \n",
      " 0   sentiment  50000 non-null  int64 \n",
      " 1   reviews    50000 non-null  object\n",
      "dtypes: int64(1), object(1)\n",
      "memory usage: 781.4+ KB\n",
      "None\n",
      "Summary stats::\n",
      "\n",
      "          sentiment\n",
      "count  50000.000000\n",
      "mean       0.500000\n",
      "std        0.500005\n",
      "min        0.000000\n",
      "25%        0.000000\n",
      "50%        0.500000\n",
      "75%        1.000000\n",
      "max        1.000000\n"
     ]
    }
   ],
   "source": [
    "print(\"General stats::\")\n",
    "print(df.info())\n",
    "print(\"Summary stats::\\n\")\n",
    "print(df.describe())"
   ]
  },
  {
   "cell_type": "code",
   "execution_count": 7,
   "metadata": {},
   "outputs": [
    {
     "data": {
      "text/plain": [
       "1    25000\n",
       "0    25000\n",
       "Name: sentiment, dtype: int64"
      ]
     },
     "execution_count": 7,
     "metadata": {},
     "output_type": "execute_result"
    }
   ],
   "source": [
    "# number of pos and negative \n",
    "df.sentiment.value_counts() # balanced"
   ]
  },
  {
   "cell_type": "code",
   "execution_count": 8,
   "metadata": {},
   "outputs": [],
   "source": [
    "reviews = df['reviews']\n",
    "sentiment = df['sentiment']"
   ]
  },
  {
   "cell_type": "code",
   "execution_count": 9,
   "metadata": {},
   "outputs": [
    {
     "name": "stdout",
     "output_type": "stream",
     "text": [
      "Classes::\n",
      " [0 1]\n"
     ]
    }
   ],
   "source": [
    "# summarize \n",
    "print('Classes::\\n',np.unique(sentiment))"
   ]
  },
  {
   "cell_type": "code",
   "execution_count": 10,
   "metadata": {},
   "outputs": [
    {
     "name": "stdout",
     "output_type": "stream",
     "text": [
      "Shape of train dataset:: (35000,) (35000,)\n",
      "Shape of test dataset:: (15000,) (15000,)\n"
     ]
    }
   ],
   "source": [
    "# split the data into train & test datasets (70:30)\n",
    "train_reviews = reviews[:35000]\n",
    "train_sentiment = sentiment[:35000]\n",
    "test_reviews = reviews[35000:]\n",
    "test_sentiment = sentiment[35000:]\n",
    "#Shape of train & test dataset\n",
    "print('Shape of train dataset::',train_reviews.shape,train_sentiment.shape)\n",
    "print('Shape of test dataset::',test_reviews.shape,test_sentiment.shape)"
   ]
  },
  {
   "cell_type": "code",
   "execution_count": 11,
   "metadata": {},
   "outputs": [],
   "source": [
    "#Reshape the array\n",
    "train_sentiment = train_sentiment.ravel()  \n",
    "test_sentiment = test_sentiment.ravel()\n",
    "#Convert categoricals to numeric ones\n",
    "train_sentiment = train_sentiment.astype('int64')\n",
    "test_sentiment = test_sentiment.astype('int64')"
   ]
  },
  {
   "cell_type": "code",
   "execution_count": 12,
   "metadata": {},
   "outputs": [
    {
     "data": {
      "text/plain": [
       "\"I went and saw this movie last night after being coaxed to by a few friends of mine. I'll admit that I was reluctant to see it because from what I knew of Ashton Kutcher he was only able to do comedy. I was wrong. Kutcher played the character of Jake Fischer very well, and Kevin Costner played Ben Randall with such professionalism. The sign of a good movie is that it can toy with our emotions. This one did exactly that. The entire theater (which was sold out) was overcome by laughter during the first half of the movie, and were moved to tears during the second half. While exiting the theater I not only saw many women in tears, but many full grown men as well, trying desperately not to let anyone see them crying. This movie was great, and I suggest that you go see it before you judge.\""
      ]
     },
     "execution_count": 12,
     "metadata": {},
     "output_type": "execute_result"
    }
   ],
   "source": [
    "train_reviews[0]"
   ]
  },
  {
   "cell_type": "code",
   "execution_count": 13,
   "metadata": {},
   "outputs": [
    {
     "data": {
      "text/plain": [
       "\"Barman just wanted to make a movie because he wanted to. Just as simple as that, and he succeeded. Not only in his goal, but also in making a wonderful movie, especially visually. He knows how to use pans, slow-motion sequences, tracking shots, crane shots, etc. in a beautiful, smooth way. This gives the movie a very relaxing feel to it.  The story is about the lives of 8 very different characters who have nothing in common except one thing: a party that they all attend to, which also is the turnpoint of this movie. The beauty of this picture lies not in the question how the characters have effect on eachother (in comparance with a similar, of course better movie like Magnolia). I simply don't think that that was Barman's idea. The beauty lies in the different details of experiences that people go through which makes or breaks their lives. Barman is very successful in telling those little stories that describe little experiences. He knows people..... and Antwerp.  The soundtrack of the movie is also excellent, but not a surprise as we know that Barman is also a very succesful songwriter and musician with his band dEUS. The music is sometimes hot and at the same time relaxing which contributes to the sunny, smooth feel of the movie. Other times we hear funky pop/rock-melodies which give some scenes the strength that they need.  There's only one flaw, and that's the last half an hour. Was it the runtime, which was breaking me up? Or weren't the last scenes that fresh and accurate than the scenes until then? I can't figure it out...  All in all a beautiful sunny movie which lifts the Belgian cinema up.  8 out of 10!  (It's the breeze that flows through a girl's hair on a sunny afternoon making her even more beautiful; it's the fresh breeze that makes you relax when it passes you at a crowded party when someone opens the door; it's the breeze that carries the perfume from that beautiful girl sitting next to you in the park who you just met a week ago; it's the breeze.....)  \""
      ]
     },
     "execution_count": 13,
     "metadata": {},
     "output_type": "execute_result"
    }
   ],
   "source": [
    "test_reviews[35001]"
   ]
  },
  {
   "cell_type": "markdown",
   "metadata": {},
   "source": [
    "Needs to be cleaned more"
   ]
  },
  {
   "cell_type": "code",
   "execution_count": 14,
   "metadata": {},
   "outputs": [
    {
     "data": {
      "text/plain": [
       "array([1, 1, 1, 1, 1, 1, 1, 1, 1, 1], dtype=int64)"
      ]
     },
     "execution_count": 14,
     "metadata": {},
     "output_type": "execute_result"
    }
   ],
   "source": [
    "train_sentiment[0:10]"
   ]
  },
  {
   "cell_type": "code",
   "execution_count": 15,
   "metadata": {},
   "outputs": [
    {
     "data": {
      "text/plain": [
       "array([1, 1, 1, 1, 1, 1, 1, 1, 1, 1], dtype=int64)"
      ]
     },
     "execution_count": 15,
     "metadata": {},
     "output_type": "execute_result"
    }
   ],
   "source": [
    "test_sentiment[0:10]"
   ]
  },
  {
   "cell_type": "code",
   "execution_count": 16,
   "metadata": {},
   "outputs": [],
   "source": [
    "ps= PorterStemmer()\n",
    "stopwords = set(stopwords.words('english'))\n",
    "\n",
    "# Define function for data mining\n",
    "def normalize_reviews(review):\n",
    "    #Excluding html tags\n",
    "    data_tags=re.sub(r'<[^<>]+>',\" \",review)\n",
    "    #Remove special characters/whitespaces\n",
    "    data_special=re.sub(r'[^a-zA-Z0-9\\s]','',data_tags)\n",
    "    #converting to lower case\n",
    "    data_lowercase=data_special.lower()\n",
    "    #tokenize review data\n",
    "    data_split=data_lowercase.split()\n",
    "    #Removing stop words\n",
    "    meaningful_words=[w for w in data_split if not w in stopwords]\n",
    "    #Appply stemming\n",
    "    text= ' '.join([ps.stem(word) for word in meaningful_words])\n",
    "    return text"
   ]
  },
  {
   "cell_type": "code",
   "execution_count": 17,
   "metadata": {},
   "outputs": [],
   "source": [
    "# normaliz3 train and test\n",
    "norm_train_reviews = train_reviews.apply(normalize_reviews)\n",
    "norm_test_reviews = test_reviews.apply(normalize_reviews)"
   ]
  },
  {
   "cell_type": "code",
   "execution_count": 18,
   "metadata": {},
   "outputs": [
    {
     "data": {
      "text/plain": [
       "'went saw movi last night coax friend mine ill admit reluct see knew ashton kutcher abl comedi wrong kutcher play charact jake fischer well kevin costner play ben randal profession sign good movi toy emot one exactli entir theater sold overcom laughter first half movi move tear second half exit theater saw mani women tear mani full grown men well tri desper let anyon see cri movi great suggest go see judg'"
      ]
     },
     "execution_count": 18,
     "metadata": {},
     "output_type": "execute_result"
    }
   ],
   "source": [
    "norm_train_reviews[0]"
   ]
  },
  {
   "cell_type": "code",
   "execution_count": 19,
   "metadata": {},
   "outputs": [
    {
     "data": {
      "text/plain": [
       "'barman want make movi want simpl succeed goal also make wonder movi especi visual know use pan slowmot sequenc track shot crane shot etc beauti smooth way give movi relax feel stori live 8 differ charact noth common except one thing parti attend also turnpoint movi beauti pictur lie question charact effect eachoth compar similar cours better movi like magnolia simpli dont think barman idea beauti lie differ detail experi peopl go make break live barman success tell littl stori describ littl experi know peopl antwerp soundtrack movi also excel surpris know barman also succes songwrit musician band deu music sometim hot time relax contribut sunni smooth feel movi time hear funki poprockmelodi give scene strength need there one flaw that last half hour runtim break werent last scene fresh accur scene cant figur beauti sunni movi lift belgian cinema 8 10 breez flow girl hair sunni afternoon make even beauti fresh breez make relax pass crowd parti someon open door breez carri perfum beauti girl sit next park met week ago breez'"
      ]
     },
     "execution_count": 19,
     "metadata": {},
     "output_type": "execute_result"
    }
   ],
   "source": [
    "norm_test_reviews[35001]"
   ]
  },
  {
   "cell_type": "code",
   "execution_count": 20,
   "metadata": {},
   "outputs": [
    {
     "name": "stdout",
     "output_type": "stream",
     "text": [
      "Shape of train_cv:: (35000, 2177017)\n",
      "Shape of test_cv:: (15000, 2177017)\n"
     ]
    }
   ],
   "source": [
    "# create features using bag of words model\n",
    "cv = CountVectorizer(ngram_range=(1,2))\n",
    "train_cv = cv.fit_transform(norm_train_reviews)\n",
    "test_cv = cv.transform(norm_test_reviews)\n",
    "print('Shape of train_cv::',train_cv.shape)\n",
    "print('Shape of test_cv::',test_cv.shape)"
   ]
  },
  {
   "cell_type": "markdown",
   "metadata": {},
   "source": [
    "### Random Forest model"
   ]
  },
  {
   "cell_type": "code",
   "execution_count": 21,
   "metadata": {},
   "outputs": [
    {
     "name": "stdout",
     "output_type": "stream",
     "text": [
      "Accuracy of trained model is :: 0.9992\n",
      "Wall time: 3min 40s\n"
     ]
    }
   ],
   "source": [
    "%%time\n",
    "# training the classifier\n",
    "rfc = RandomForestClassifier(n_estimators=20,random_state=42)\n",
    "rfc = rfc.fit(train_cv,train_sentiment)\n",
    "score = rfc.score(train_cv,train_sentiment)\n",
    "print('Accuracy of trained model is ::',score)"
   ]
  },
  {
   "cell_type": "code",
   "execution_count": 22,
   "metadata": {},
   "outputs": [
    {
     "name": "stdout",
     "output_type": "stream",
     "text": [
      "Wall time: 1.62 s\n"
     ]
    }
   ],
   "source": [
    "%%time\n",
    "# making predicitions\n",
    "rfc_predict=rfc.predict(test_cv)"
   ]
  },
  {
   "cell_type": "code",
   "execution_count": 23,
   "metadata": {
    "scrolled": true
   },
   "outputs": [
    {
     "data": {
      "image/png": "[encoded data removed]",
      "text/plain": [
       "<Figure size 864x576 with 2 Axes>"
      ]
     },
     "metadata": {
      "needs_background": "light"
     },
     "output_type": "display_data"
    }
   ],
   "source": [
    "# How accuate our model is?\n",
    "cm = confusion_matrix(test_sentiment,rfc_predict)\n",
    "\n",
    "# plot the confusion matrix\n",
    "skplt.metrics.plot_confusion_matrix(test_sentiment,rfc_predict,normalize=False,figsize=(12,8))\n",
    "plt.show()"
   ]
  },
  {
   "cell_type": "code",
   "execution_count": 24,
   "metadata": {},
   "outputs": [
    {
     "name": "stdout",
     "output_type": "stream",
     "text": [
      "Classification report is::\n",
      "               precision    recall  f1-score   support\n",
      "\n",
      "           0       0.99      0.47      0.63     12500\n",
      "           1       0.27      0.97      0.42      2500\n",
      "\n",
      "    accuracy                           0.55     15000\n",
      "   macro avg       0.63      0.72      0.53     15000\n",
      "weighted avg       0.87      0.55      0.60     15000\n",
      "\n"
     ]
    }
   ],
   "source": [
    "# print classification report for performance metrics\n",
    "cr=classification_report(test_sentiment,rfc_predict)\n",
    "print('Classification report is::\\n',cr)"
   ]
  },
  {
   "cell_type": "code",
   "execution_count": 25,
   "metadata": {},
   "outputs": [
    {
     "name": "stdout",
     "output_type": "stream",
     "text": [
      "AUC score for Random Forest classifier:: 0.718\n"
     ]
    }
   ],
   "source": [
    "# ROC curve for Random Forest Classifier\n",
    "fpr_rf,tpr_rf,threshold_rf=roc_curve(test_sentiment,rfc_predict)\n",
    "#Area under curve (AUC) score, fpr-False Positive rate, tpr-True Positive rate\n",
    "auc_rf=auc(fpr_rf,tpr_rf)\n",
    "print('AUC score for Random Forest classifier::',np.round(auc_rf,3))"
   ]
  }
 ],
 "metadata": {
  "kernelspec": {
   "display_name": "Python 3",
   "language": "python",
   "name": "python3"
  },
  "language_info": {
   "codemirror_mode": {
    "name": "ipython",
    "version": 3
   },
   "file_extension": ".py",
   "mimetype": "text/x-python",
   "name": "python",
   "nbconvert_exporter": "python",
   "pygments_lexer": "ipython3",
   "version": "3.7.3"
  }
 },
 "nbformat": 4,
 "nbformat_minor": 4
}
