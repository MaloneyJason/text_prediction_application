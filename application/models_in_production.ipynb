{
 "cells": [
  {
   "cell_type": "markdown",
   "metadata": {},
   "source": [
    "# Sentiment"
   ]
  },
  {
   "cell_type": "code",
   "execution_count": 1,
   "metadata": {},
   "outputs": [],
   "source": [
    "# pip install h5py"
   ]
  },
  {
   "cell_type": "code",
   "execution_count": 2,
   "metadata": {},
   "outputs": [],
   "source": [
    "# pip install keras"
   ]
  },
  {
   "cell_type": "code",
   "execution_count": 3,
   "metadata": {},
   "outputs": [],
   "source": [
    "# pip install PyYAML"
   ]
  },
  {
   "cell_type": "code",
   "execution_count": 4,
   "metadata": {},
   "outputs": [],
   "source": [
    "# pip install anvil-uplink"
   ]
  },
  {
   "cell_type": "code",
   "execution_count": 5,
   "metadata": {
    "scrolled": true
   },
   "outputs": [
    {
     "name": "stderr",
     "output_type": "stream",
     "text": [
      "Using TensorFlow backend.\n"
     ]
    }
   ],
   "source": [
    "# %%time\n",
    "import keras # for sentitment model\n",
    "import tensorflow as tf  # to resolve the loading issue with different version of keras\n",
    "from nltk.tokenize import RegexpTokenizer\n",
    "import pickle # load transformers: 'tfidf_vectorizer' and 'selector'\n",
    "import re # for tokenizer\n",
    "import dill # load language model\n",
    "from collections import defaultdict # to make language model work"
   ]
  },
  {
   "cell_type": "code",
   "execution_count": 6,
   "metadata": {},
   "outputs": [],
   "source": [
    "%load_ext memory_profiler"
   ]
  },
  {
   "cell_type": "code",
   "execution_count": 7,
   "metadata": {},
   "outputs": [
    {
     "name": "stdout",
     "output_type": "stream",
     "text": [
      "Model: \"sequential\"\n",
      "_________________________________________________________________\n",
      "Layer (type)                 Output Shape              Param #   \n",
      "=================================================================\n",
      "dropout (Dropout)            (None, 20000)             0         \n",
      "_________________________________________________________________\n",
      "dense (Dense)                (None, 64)                1280064   \n",
      "_________________________________________________________________\n",
      "dropout_1 (Dropout)          (None, 64)                0         \n",
      "_________________________________________________________________\n",
      "dense_1 (Dense)              (None, 1)                 65        \n",
      "=================================================================\n",
      "Total params: 1,280,129\n",
      "Trainable params: 1,280,129\n",
      "Non-trainable params: 0\n",
      "_________________________________________________________________\n",
      "Wall time: 448 ms\n"
     ]
    }
   ],
   "source": [
    "%%time\n",
    "# load model\n",
    "model = tf.keras.models.load_model('models/kera_model_dropout_nn.h5')\n",
    "# summarize model.\n",
    "model.summary()"
   ]
  },
  {
   "cell_type": "code",
   "execution_count": 8,
   "metadata": {},
   "outputs": [
    {
     "name": "stdout",
     "output_type": "stream",
     "text": [
      "peak memory: 983.67 MiB, increment: 707.27 MiB\n"
     ]
    }
   ],
   "source": [
    "%%memit\n",
    "# %%time\n",
    "# load the tfidf_vectorizer from disk\n",
    "filename = 'models/tfidf_vectorizer.sav'\n",
    "tfidf_vectorizer = pickle.load(open(filename, 'rb'))\n",
    "\n",
    "# load the selector from disk\n",
    "filename = 'models/selector.sav'\n",
    "selector = pickle.load(open(filename, 'rb'))"
   ]
  },
  {
   "cell_type": "code",
   "execution_count": 9,
   "metadata": {},
   "outputs": [],
   "source": [
    "def keras_predict_sentiment(text):\n",
    "    \"\"\"\n",
    "    expect: a string of text\n",
    "    modify: vectorize the string with 'tfidf_vectorizer' and 'selector' transformers\n",
    "    return: an int (1:'postive' ; 2:'negative')\n",
    "    \"\"\"\n",
    "    text_list=[]\n",
    "    text_list.append(text)\n",
    "    raw_dtm = tfidf_vectorizer.transform(text_list)\n",
    "    selected_dtm = selector.transform(raw_dtm).astype('float32')  \n",
    "    pred_class = int(model.predict_classes(selected_dtm.toarray()))    \n",
    "    return pred_class"
   ]
  },
  {
   "cell_type": "markdown",
   "metadata": {},
   "source": [
    "  "
   ]
  },
  {
   "cell_type": "code",
   "execution_count": 10,
   "metadata": {},
   "outputs": [
    {
     "data": {
      "text/plain": [
       "0"
      ]
     },
     "execution_count": 10,
     "metadata": {},
     "output_type": "execute_result"
    }
   ],
   "source": [
    "keras_predict_sentiment(\"\"\"\"\"\")"
   ]
  },
  {
   "cell_type": "markdown",
   "metadata": {},
   "source": [
    "# Text Prediction"
   ]
  },
  {
   "cell_type": "code",
   "execution_count": 11,
   "metadata": {},
   "outputs": [],
   "source": [
    "# pip install memory_profiler"
   ]
  },
  {
   "cell_type": "code",
   "execution_count": 12,
   "metadata": {},
   "outputs": [
    {
     "name": "stdout",
     "output_type": "stream",
     "text": [
      "loading language model....\n",
      "loading language model....done!\n",
      "peak memory: 10246.54 MiB, increment: 9344.68 MiB\n"
     ]
    }
   ],
   "source": [
    "%%memit\n",
    "print('loading language model....')\n",
    "# %%time\n",
    "# Load models\n",
    "with open('models/bigram_model.p', 'rb') as file:\n",
    "   bigram_model = dill.load(file)\n",
    "with open('models/trigram_model.p', 'rb') as file:\n",
    "   trigram_model = dill.load(file)\n",
    "with open('models/fourgram_model.p', 'rb') as file:\n",
    "   fourgram_model = dill.load(file)\n",
    "with open('models/fivegram_model.p', 'rb') as file:\n",
    "   fivegram_model = dill.load(file)\n",
    "\n",
    "# define tokenizer to get words\n",
    "tokenizer = RegexpTokenizer(r'\\w+')\n",
    "print('loading language model....done!')"
   ]
  },
  {
   "cell_type": "code",
   "execution_count": 13,
   "metadata": {},
   "outputs": [],
   "source": [
    "# function to predict the next word based on bigram model\n",
    "def bigram_predict_next_word(word):\n",
    "    '''\n",
    "    word: a list of token\n",
    "    '''\n",
    "    if len(bigram_model[word[0]]) == 0:\n",
    "        return None\n",
    "    else:\n",
    "        prob_list = bigram_model[word[0]].values()\n",
    "        # find the max prob\n",
    "        most_likely = max(prob_list)\n",
    "        #print(most_likely)\n",
    "        # predicted words\n",
    "        pred_words = [word for word, prob in bigram_model[word[0]].items() if prob == most_likely]\n",
    "#         pred_word = random.choice(pred_words)\n",
    "    return pred_words[0]"
   ]
  },
  {
   "cell_type": "code",
   "execution_count": 14,
   "metadata": {},
   "outputs": [],
   "source": [
    "# function to predict next word with trigram model\n",
    "def trigram_predict_next_word(words):\n",
    "    '''\n",
    "    words: a list of token\n",
    "    '''\n",
    "    if len(trigram_model[words[0], words[1]]) == 0:\n",
    "        last_word = words[-1]\n",
    "        return bigram_predict_next_word(last_word)\n",
    "    else:\n",
    "        # get probabilities of next word\n",
    "        prob_list = trigram_model[words[0], words[1]].values()\n",
    "        # find the max prob\n",
    "        most_likely = max(prob_list)\n",
    "        # predicted words\n",
    "        pred_words = [word for word, prob in trigram_model[words[0], words[1]].items() if prob == most_likely]\n",
    "#         pred_word = random.choice(pred_words)\n",
    "    return pred_words[0]"
   ]
  },
  {
   "cell_type": "code",
   "execution_count": 15,
   "metadata": {},
   "outputs": [],
   "source": [
    "def fourgram_predict_next_word(words):\n",
    "    '''\n",
    "    words: a list of token\n",
    "    '''\n",
    "    if len(fourgram_model[words[0], words[1], words[2]]) == 0:\n",
    "        last_two_words = words[-2:] \n",
    "        return trigram_predict_next_word(last_two_words)\n",
    "    else:\n",
    "        # get probabilities of next word\n",
    "        prob_list = fourgram_model[words[0], words[1], words[2]].values()\n",
    "        # find max prob\n",
    "        most_likely = max(prob_list)\n",
    "        # get the predicted word(s)\n",
    "        pred_words = [word for word, prob in fourgram_model[words[0], words[1], words[2]].items() if prob == most_likely]\n",
    "#         pred_word = random.choice(pred_words)\n",
    "    return pred_words[0]"
   ]
  },
  {
   "cell_type": "code",
   "execution_count": 16,
   "metadata": {},
   "outputs": [],
   "source": [
    "# function to predict next word with 5-gram model\n",
    "def fivegram_predict_next_word(words):\n",
    "    '''\n",
    "    words: a list of token\n",
    "    '''\n",
    "    if len(fivegram_model[words[0], words[1], words[2], words[3]]) == 0:\n",
    "        last_three_words = words[-3:]\n",
    "        return fourgram_predict_next_word(last_three_words)\n",
    "    else:\n",
    "        # get probabilities of next word\n",
    "        prob_list = fivegram_model[words[0], words[1], words[2], words[3]].values()\n",
    "        # find max prob\n",
    "        most_likely = max(prob_list)\n",
    "        # predicted words\n",
    "        pred_words = [w for w, p in fivegram_model[words[0], words[1], words[2], words[3]].items() if p == most_likely]\n",
    "#         pred_word = random.choice(pred_words)\n",
    "    return pred_words[0]"
   ]
  },
  {
   "cell_type": "code",
   "execution_count": 17,
   "metadata": {},
   "outputs": [],
   "source": [
    "def ngram_prediction(text):\n",
    "    \"\"\"\n",
    "    expect: a raw string of text\n",
    "    modify: tokenize the string and # check the length to decide to start with which model.\n",
    "                1. if the string has 4 tokens or above, take the last four tokens as input to fivegram_model\n",
    "                2. if the string has 3 tokens, take the list of tokens as input to fourgram_model\n",
    "                3. if the string has 2 tokens, take the list of tokens as input to trigram_model\n",
    "                4. if the string has 1 tokens, take the token as input to trigram_model\n",
    "    return: predicted word\n",
    "    \"\"\"\n",
    "    # tokenize the words\n",
    "    user_tokens = tokenizer.tokenize(text)\n",
    "    if len(user_tokens) >= 4:\n",
    "        try:\n",
    "            return fivegram_predict_next_word(user_tokens[-4:]) # take the last four tokens\n",
    "        except:    \n",
    "            return fivegram_predict_next_word(user_tokens) # take the last four tokens\n",
    "    elif len(user_tokens) == 3:\n",
    "        return fourgram_predict_next_word(user_tokens)\n",
    "    elif len(user_tokens) == 2:\n",
    "        return trigram_predict_next_word(user_tokens)\n",
    "    elif len(user_tokens) == 1:\n",
    "        return bigram_predict_next_word(user_tokens) \n",
    "   "
   ]
  },
  {
   "cell_type": "code",
   "execution_count": 18,
   "metadata": {},
   "outputs": [],
   "source": [
    "# for AWS EC2\n",
    "def bigram_prediction(text):\n",
    "    \"\"\"\n",
    "    expect: a raw string of text\n",
    "    modify: tokenize the string and take the token as input to bigram_model\n",
    "    return: predicted word\n",
    "    \"\"\"\n",
    "    # tokenize the words\n",
    "    user_tokens = tokenizer.tokenize(text)\n",
    "    return bigram_predict_next_word(user_tokens) "
   ]
  },
  {
   "cell_type": "markdown",
   "metadata": {},
   "source": [
    "# Anvil"
   ]
  },
  {
   "cell_type": "code",
   "execution_count": 19,
   "metadata": {},
   "outputs": [
    {
     "name": "stdout",
     "output_type": "stream",
     "text": [
      "Connecting to wss://anvil.works/uplink\n",
      "Anvil websocket open\n",
      "Authenticated OK\n",
      "final step is running\n",
      "peak memory: 9469.51 MiB, increment: 9.81 MiB\n"
     ]
    }
   ],
   "source": [
    "%%memit\n",
    "import anvil.server\n",
    "\n",
    "anvil.server.connect(\"5XCZTEH4WBSLT3RDLI2IQREG-GKBVYFFZHDHXUDBJ\")\n",
    "print('final step is running')"
   ]
  },
  {
   "cell_type": "code",
   "execution_count": null,
   "metadata": {},
   "outputs": [],
   "source": [
    "@anvil.server.callable\n",
    "# Put the function that will be used in anvil client server (web)\n",
    "# This block of code should be running forever\n",
    "# The @anvil.server.callable decorator can only take one function\n",
    "\n",
    "def app_prediction(text):\n",
    "    \"\"\"\n",
    "    expect: a string of text\n",
    "    modify: send the string to two functions:\n",
    "                1. ngram_prediction\n",
    "                2. keras_predict_sentiment\n",
    "    return: a tuple that contains a predicted word and a predicted class\n",
    "    \"\"\"\n",
    "    ## Sentiment Prediction\n",
    "    pred_word = ngram_prediction(text)\n",
    "    \n",
    "    ## Text Prediction\n",
    "    pred_class = keras_predict_sentiment(text)\n",
    "        \n",
    "    return pred_word, pred_class\n",
    "\n",
    "anvil.server.wait_forever()"
   ]
  },
  {
   "cell_type": "code",
   "execution_count": null,
   "metadata": {},
   "outputs": [],
   "source": []
  }
 ],
 "metadata": {
  "kernelspec": {
   "display_name": "Python 3",
   "language": "python",
   "name": "python3"
  },
  "language_info": {
   "codemirror_mode": {
    "name": "ipython",
    "version": 3
   },
   "file_extension": ".py",
   "mimetype": "text/x-python",
   "name": "python",
   "nbconvert_exporter": "python",
   "pygments_lexer": "ipython3",
   "version": "3.7.3"
  }
 },
 "nbformat": 4,
 "nbformat_minor": 2
}
